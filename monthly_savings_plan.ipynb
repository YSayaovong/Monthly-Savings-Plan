# Prompt the user for their current age
current_age = int(input("Enter your current age: "))

# Prompt the user for their target retirement age
retirement_age = int(input("Enter your target retirement age: "))

# Prompt the user for their desired savings amount at retirement
desired_savings = float(input("Enter your desired savings amount at retirement: "))

# Prompt the user for the annual interest rate on their savings
annual_interest_rate = float(input("Enter the annual interest rate (in %): ")) / 100

# Calculate the number of years left until retirement
years_left = retirement_age - current_age

# Calculate the total number of months left until retirement
months_left = years_left * 12

# Determine the ideal monthly savings amount
if annual_interest_rate > 0:
    monthly_interest_rate = (1 + annual_interest_rate) ** (1 / 12) - 1
    monthly_savings = desired_savings * monthly_interest_rate / ((1 + monthly_interest_rate) ** months_left - 1)
else:
    monthly_savings = desired_savings / months_left

# Display the ideal monthly savings amount to the user
print(f"To achieve your desired savings of ${desired_savings:,.2f}, you need to save ${monthly_savings:,.2f} per month.")